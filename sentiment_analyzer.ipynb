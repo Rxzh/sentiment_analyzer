{
 "cells": [
  {
   "cell_type": "markdown",
   "metadata": {},
   "source": [
    "# Short introduction to my Sentiment analysis work.\n",
    "## (Public polarity on cryptocurrency)\n",
    "\n",
    "### Pierre B. Regenpied \n",
    "\n",
    "This notebook is an introduction to the work I am doing during my Summer Internship at Mazars, the goal is to retrieve open source data on bitcoin and try to get an analysis of public sentiment. \n",
    "\n",
    "The data we are using are Tweets, however my intuition was that tweets would be too noisy, so we started by scraping tweets listed on cryptopanic.com, a site with a community of crypto-analysts. \n",
    "\n",
    "These tweets are evaluated according to their seriousness and potential impact, that way, it allows us to avoid web trolls or other bad data. "
   ]
  },
  {
   "cell_type": "code",
   "execution_count": 1,
   "metadata": {},
   "outputs": [],
   "source": [
    "import pandas as pd\n",
    "from textblob import TextBlob\n",
    "import time\n",
    "import datetime\n",
    "import matplotlib.pyplot as plt\n",
    "from sklearn.preprocessing import StandardScaler\n",
    "import os"
   ]
  },
  {
   "cell_type": "code",
   "execution_count": 2,
   "metadata": {},
   "outputs": [],
   "source": [
    "#os.system(\"python cryptopanic_scraper.py --headless --limit 1000 --filter hot\")"
   ]
  },
  {
   "cell_type": "markdown",
   "metadata": {},
   "source": [
    "    output:\n",
    "\n",
    "    Initializing chromedriver.\n",
    "\n",
    "\n",
    "    Checking for mac64 chromedriver:91.0.4472.101 in cache\n",
    "    Loading News Feed...\n",
    "\n",
    "    Loading 48 more rows\n",
    "    Loading 43 more rows\n",
    "    Loading 46 more rows\n",
    "    No more rows to load :/\n",
    "    Total rows loaded: 190\n",
    "\n",
    "    Downloading Data...\n",
    "\n",
    "    Time Start: 2021-07-01 16:34:58.823832\n",
    "\n",
    "    Downloaded 10\n",
    "    Downloaded 20\n",
    "    Downloaded 30\n",
    "    Downloaded 40\n",
    "    Downloaded 50\n",
    "    Downloaded 60\n",
    "    Downloaded 70\n",
    "    Downloaded 80\n",
    "    Downloaded 90\n",
    "    Downloaded 100\n",
    "    Downloaded 110\n",
    "    Downloaded 120\n",
    "    Downloaded 130\n",
    "    Downloaded 140\n",
    "    Downloaded 150\n",
    "    Downloaded 160\n",
    "    Downloaded 170\n",
    "    Downloaded 180\n",
    "    Finished gathering 183 rows of data\n",
    "\n",
    "    Time End: 2021-07-01 16:41:20\n",
    "    Elapsed Time Gathering Data: 0:06:21\n",
    "\n",
    "    Saved data to cryptopanic_all_Wed Jun 30->Thu Jul 01.pickle\n",
    "    "
   ]
  },
  {
   "cell_type": "code",
   "execution_count": 3,
   "metadata": {},
   "outputs": [
    {
     "name": "stdout",
     "output_type": "stream",
     "text": [
      "Binance_BTCUSDT_d.csv\r\n",
      "cryptopanic_all_Wed Jun 30->Thu Jul 01.pickle\r\n",
      "cryptopanic_hot_Mon Jun 28->Thu Jul 01.pickle\r\n"
     ]
    }
   ],
   "source": [
    "if os.name == 'posix': #osx / linux\n",
    "    !ls data\n",
    "elif os.name =='nt': #windows\n",
    "    !dir data"
   ]
  },
  {
   "cell_type": "code",
   "execution_count": 4,
   "metadata": {},
   "outputs": [
    {
     "name": "stdout",
     "output_type": "stream",
     "text": [
      "2021-05-23\n",
      "2021-06-07\n"
     ]
    }
   ],
   "source": [
    "def to_ts(date):\n",
    "    \"\"\"\n",
    "    Converts a dd/mm/yy or yy-mm-dd date format to a timestamp\n",
    "    ============\n",
    "    Input  : str\n",
    "    Output : int\n",
    "    \"\"\"\n",
    "    if '/' in date: #Format dd/mm/yy\n",
    "        return int(time.mktime(datetime.datetime.strptime(date, \"%d/%m/%Y\").timetuple()))\n",
    "    elif '-' in date: #Format yy-mm-dd\n",
    "        return int(time.mktime(datetime.datetime.strptime(date, \"%Y-%m-%d\").timetuple()))\n",
    "\n",
    "def to_date(ts):\n",
    "    \"\"\"\n",
    "    Converts a timestamp to a yy-mm-dd format date\n",
    "    ============\n",
    "    Input  : int\n",
    "    Output : str\n",
    "    \"\"\"\n",
    "    return str(datetime.datetime.fromtimestamp(ts)).split(' ')[0]\n",
    "\n",
    "min_ = 1621720800\n",
    "max_ = 1623016800\n",
    "\n",
    "print(to_date(min_))\n",
    "print(to_date(max_))"
   ]
  },
  {
   "cell_type": "code",
   "execution_count": 5,
   "metadata": {},
   "outputs": [],
   "source": [
    "#Obtenu en runnant le script cryptopanic_scraper.py\n",
    "obj = pd.read_pickle('data/cryptopanic_hot_Mon Jun 28->Thu Jul 01.pickle')"
   ]
  },
  {
   "cell_type": "code",
   "execution_count": 6,
   "metadata": {},
   "outputs": [],
   "source": [
    "Dates, Tweets = list(), list()\n",
    "for key in obj.keys():\n",
    " \n",
    "    month,day = obj[key]['Date'].split(' ')[1:3]\n",
    "    Dates.append(to_ts(\"%s/%s/%s\"%(day,month.replace('Jun','06').replace('Jul','07'),'2021')))\n",
    "    Tweets.append(obj[key]['Title'].lower())\n"
   ]
  },
  {
   "cell_type": "code",
   "execution_count": 7,
   "metadata": {},
   "outputs": [],
   "source": [
    "tweet = TextBlob(\"Textblob is amazingly simple to use. What great fun!\")\n",
    "Subjectivities = [TextBlob(Tweet).sentiment.subjectivity for Tweet in Tweets]\n",
    "Polarities = [TextBlob(Tweet).sentiment.polarity for Tweet in Tweets]"
   ]
  },
  {
   "cell_type": "code",
   "execution_count": 8,
   "metadata": {},
   "outputs": [
    {
     "data": {
      "text/html": [
       "<div>\n",
       "<style scoped>\n",
       "    .dataframe tbody tr th:only-of-type {\n",
       "        vertical-align: middle;\n",
       "    }\n",
       "\n",
       "    .dataframe tbody tr th {\n",
       "        vertical-align: top;\n",
       "    }\n",
       "\n",
       "    .dataframe thead th {\n",
       "        text-align: right;\n",
       "    }\n",
       "</style>\n",
       "<table border=\"1\" class=\"dataframe\">\n",
       "  <thead>\n",
       "    <tr style=\"text-align: right;\">\n",
       "      <th></th>\n",
       "      <th>Tweet</th>\n",
       "      <th>Date</th>\n",
       "      <th>Polarities</th>\n",
       "      <th>Subjectivities</th>\n",
       "    </tr>\n",
       "  </thead>\n",
       "  <tbody>\n",
       "    <tr>\n",
       "      <th>104</th>\n",
       "      <td>binance suspends popular fiat ramp for u.k. cu...</td>\n",
       "      <td>1624917600</td>\n",
       "      <td>0.6</td>\n",
       "      <td>0.6</td>\n",
       "    </tr>\n",
       "    <tr>\n",
       "      <th>5</th>\n",
       "      <td>popular crypto analyst explains why he is so b...</td>\n",
       "      <td>1625090400</td>\n",
       "      <td>0.6</td>\n",
       "      <td>0.6</td>\n",
       "    </tr>\n",
       "    <tr>\n",
       "      <th>80</th>\n",
       "      <td>why is polygon so popular?</td>\n",
       "      <td>1624917600</td>\n",
       "      <td>0.6</td>\n",
       "      <td>0.6</td>\n",
       "    </tr>\n",
       "    <tr>\n",
       "      <th>54</th>\n",
       "      <td>popular crypto analyst drops all his ethereum ...</td>\n",
       "      <td>1625004000</td>\n",
       "      <td>0.6</td>\n",
       "      <td>0.6</td>\n",
       "    </tr>\n",
       "    <tr>\n",
       "      <th>100</th>\n",
       "      <td>bitcoin's novelty will fade, according to top ...</td>\n",
       "      <td>1624917600</td>\n",
       "      <td>0.5</td>\n",
       "      <td>0.5</td>\n",
       "    </tr>\n",
       "  </tbody>\n",
       "</table>\n",
       "</div>"
      ],
      "text/plain": [
       "                                                 Tweet        Date  \\\n",
       "104  binance suspends popular fiat ramp for u.k. cu...  1624917600   \n",
       "5    popular crypto analyst explains why he is so b...  1625090400   \n",
       "80                          why is polygon so popular?  1624917600   \n",
       "54   popular crypto analyst drops all his ethereum ...  1625004000   \n",
       "100  bitcoin's novelty will fade, according to top ...  1624917600   \n",
       "\n",
       "     Polarities  Subjectivities  \n",
       "104         0.6             0.6  \n",
       "5           0.6             0.6  \n",
       "80          0.6             0.6  \n",
       "54          0.6             0.6  \n",
       "100         0.5             0.5  "
      ]
     },
     "execution_count": 8,
     "metadata": {},
     "output_type": "execute_result"
    }
   ],
   "source": [
    "df = pd.DataFrame()\n",
    "df['Tweet'] = Tweets\n",
    "df['Date'] = Dates\n",
    "df['Polarities'] = Polarities\n",
    "df['Subjectivities'] = Polarities\n",
    "\n",
    "df.sort_values(by=['Polarities'], inplace=True, ascending = False)\n",
    "\n",
    "df.head()"
   ]
  },
  {
   "cell_type": "markdown",
   "metadata": {},
   "source": [
    "Here is the Tweets DataFrame, containing all the trending tweets talking about BTC on cryptopanic.com. Polarity column represents the enthusiasm of the tweet (1 = Optimistic, -1 = pessimistic). And the Subjectivities column represents the subjectivity of a tweet (1 = objective, -1 = subjective) "
   ]
  },
  {
   "cell_type": "code",
   "execution_count": 9,
   "metadata": {},
   "outputs": [],
   "source": [
    "Days,Polas = [],[]\n",
    "for ts in range (to_ts('2021-06-28'),to_ts('2021-07-01')+86400,86400):\n",
    "    Days.append(to_date(ts))\n",
    "    Polas.append(sum(df.loc[df['Date'] == ts ]['Polarities']))\n",
    "    "
   ]
  },
  {
   "cell_type": "code",
   "execution_count": 10,
   "metadata": {},
   "outputs": [],
   "source": [
    "#plt.plot(Days,Polas)\n",
    "#plt.show()"
   ]
  },
  {
   "cell_type": "markdown",
   "metadata": {},
   "source": [
    "Prices can be manually downloaded on : https://www.cryptodatadownload.com/data/binance/"
   ]
  },
  {
   "cell_type": "code",
   "execution_count": 11,
   "metadata": {},
   "outputs": [],
   "source": [
    "df_polarities = pd.DataFrame()\n",
    "df_polarities['Date'] = Days\n",
    "df_polarities['Polarities'] = Polas\n",
    "\n",
    "df_prices = pd.read_csv('data/Binance_BTCUSDT_d.csv')\n",
    "\n",
    "df2 = pd.DataFrame()\n",
    "df2['Date'] = df_polarities['Date'].apply(to_ts)\n",
    "df2['Polarities'] = df_polarities['Polarities']\n",
    "df2['Price'] = df_prices[df_prices['unix']/1000 > min(df['Date'])]['open']"
   ]
  },
  {
   "cell_type": "code",
   "execution_count": 12,
   "metadata": {},
   "outputs": [
    {
     "data": {
      "image/png": "[encoded data removed]",
      "text/plain": [
       "<Figure size 432x288 with 1 Axes>"
      ]
     },
     "metadata": {
      "needs_background": "light"
     },
     "output_type": "display_data"
    }
   ],
   "source": [
    "plt.plot(Days,df2['Price'])\n",
    "plt.xlabel('Days')\n",
    "plt.ylabel('BTC Price')\n",
    "plt.show()"
   ]
  },
  {
   "cell_type": "code",
   "execution_count": 13,
   "metadata": {},
   "outputs": [],
   "source": [
    "scaled_features = StandardScaler().fit_transform(df2[['Polarities', 'Price']])\n",
    "#I Apply a standarScaler transformation on the Polarities and prices to compare them."
   ]
  },
  {
   "cell_type": "code",
   "execution_count": null,
   "metadata": {},
   "outputs": [],
   "source": []
  },
  {
   "cell_type": "code",
   "execution_count": 14,
   "metadata": {},
   "outputs": [],
   "source": [
    "\n",
    "df2['Polarities'] = scaled_features[:,0]\n",
    "df2['Price'] = scaled_features[:,1]\n",
    "\n",
    "#del df2\n",
    "#del df"
   ]
  },
  {
   "cell_type": "code",
   "execution_count": 15,
   "metadata": {
    "scrolled": false
   },
   "outputs": [
    {
     "data": {
      "image/png": "[encoded data removed]",
      "text/plain": [
       "<Figure size 1080x720 with 1 Axes>"
      ]
     },
     "metadata": {
      "needs_background": "light"
     },
     "output_type": "display_data"
    }
   ],
   "source": [
    "plt.rcParams[\"figure.figsize\"] = (15,10)\n",
    "plt.plot(df2['Date'], df2['Polarities'], label='Public polarity from Cryptopanic.com')\n",
    "plt.plot(df2['Date'], df2['Price'], label='Daily mean BTC/USD Price')\n",
    "plt.legend()\n",
    "plt.show()"
   ]
  },
  {
   "cell_type": "markdown",
   "metadata": {},
   "source": [
    "We see an impressive correlation between price and public sentiment. We can calculate the Pearson coefficient to quantitatively estimate this correlation"
   ]
  },
  {
   "cell_type": "code",
   "execution_count": 16,
   "metadata": {},
   "outputs": [
    {
     "name": "stdout",
     "output_type": "stream",
     "text": [
      "Pearson correlation coefficient = 0.975\n"
     ]
    }
   ],
   "source": [
    "from scipy.stats import pearsonr\n",
    "print(\"Pearson correlation coefficient = {}\".format(round(pearsonr(df2['Price'],df2['Polarities'])[0],3)))"
   ]
  },
  {
   "cell_type": "markdown",
   "metadata": {},
   "source": [
    "The idea now is to increase the frequency of retrieval of tweets from a daily basis to an hourly or minute basis and try to predict the price movement before it happens. This may not be possible, as the public probably only reacts to market movements and doesn't influence it."
   ]
  },
  {
   "cell_type": "markdown",
   "metadata": {},
   "source": [
    "Another goal is to avoid scraping tweets through cryptopanic.com, but directly from twitter.com, with a huge amount of data, we will have to perform data selection to keep only serious tweets. To do so, it would be great to train a new NLP Neural Network, specialized on bitcoin tweets."
   ]
  },
  {
   "cell_type": "code",
   "execution_count": null,
   "metadata": {},
   "outputs": [],
   "source": []
  }
 ],
 "metadata": {
  "kernelspec": {
   "display_name": "Python 3",
   "language": "python",
   "name": "python3"
  },
  "language_info": {
   "codemirror_mode": {
    "name": "ipython",
    "version": 3
   },
   "file_extension": ".py",
   "mimetype": "text/x-python",
   "name": "python",
   "nbconvert_exporter": "python",
   "pygments_lexer": "ipython3",
   "version": "3.7.4"
  }
 },
 "nbformat": 4,
 "nbformat_minor": 2
}
